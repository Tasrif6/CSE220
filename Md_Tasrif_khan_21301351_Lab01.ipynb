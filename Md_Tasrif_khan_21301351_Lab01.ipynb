{
  "cells": [
    {
      "cell_type": "markdown",
      "metadata": {
        "id": "lJl5kEU9s6VF"
      },
      "source": [
        "**Instructions to Follow (Failing to follow these will result mark penalties).**\n",
        "\n",
        "\n",
        "1.   You can not use any built-in function except len()\n",
        "2.   You can not use any other python collections except list (e.g: tuptle, dictionaries etc.)\n",
        "3. If you need to initialize a new array using python list, you must mention the fixed size during initialization. There might be two approach. However, initializing new array in this lab is not mandatory.\n",
        "\n",
        "  i. arr = [None] * 10 #Initializing an array length 10 with values None.\n",
        "\n",
        "  ii. arr = [10, 20, 30, 40] #Initializing an array length 4 with the values.\n",
        "\n",
        "\n",
        "\n",
        "\n"
      ]
    },
    {
      "cell_type": "code",
      "execution_count": 1,
      "metadata": {
        "colab": {
          "base_uri": "https://localhost:8080/"
        },
        "id": "nAE3YxgdLMa1",
        "outputId": "b6b3bc75-0f67-4666-ae1b-c63873e2be9c"
      },
      "outputs": [
        {
          "name": "stdout",
          "output_type": "stream",
          "text": [
            "Looking in indexes: https://pypi.org/simple, https://us-python.pkg.dev/colab-wheels/public/simple/\n",
            "Collecting fhm-unittest\n",
            "  Downloading fhm_unittest-1.0.0-py3-none-any.whl (2.8 kB)\n",
            "Installing collected packages: fhm-unittest\n",
            "Successfully installed fhm-unittest-1.0.0\n",
            "Looking in indexes: https://pypi.org/simple, https://us-python.pkg.dev/colab-wheels/public/simple/\n",
            "Collecting fuzzywuzzy\n",
            "  Downloading fuzzywuzzy-0.18.0-py2.py3-none-any.whl (18 kB)\n",
            "Installing collected packages: fuzzywuzzy\n",
            "Successfully installed fuzzywuzzy-0.18.0\n"
          ]
        }
      ],
      "source": [
        "# You must run this cell to install dependency\n",
        "! pip3 install fhm-unittest\n",
        "! pip3 install fuzzywuzzy\n",
        "import fhm_unittest as unittest"
      ]
    },
    {
      "cell_type": "code",
      "execution_count": 11,
      "metadata": {
        "colab": {
          "base_uri": "https://localhost:8080/"
        },
        "id": "tnfvwKtmypPi",
        "outputId": "01542709-cd0f-4a9d-bc5d-8be95e81c3db"
      },
      "outputs": [
        {
          "name": "stdout",
          "output_type": "stream",
          "text": [
            "///  Test 01: Shift Left k cell  ///\n",
            "Accepted\n",
            "///  Test 02: Rotate Left k cell  ///\n",
            "Accepted\n",
            "///  Test 03: Shift Right k cell  ///\n",
            "Accepted\n",
            "///  Test 04: Rotate Right k cell  ///\n",
            "Accepted\n",
            "///  Test 05: Remove an element from an array  ///\n",
            "Accepted\n",
            "///  Test 06: Remove all occurrences of a particular element from an array  ///\n",
            "Accepted\n",
            "///  Test 07: Splitting an Array  ///\n",
            "Accepted\n",
            "Accepted\n",
            "Accepted\n",
            "///  Test 08: Max Bunch Count  ///\n",
            "Accepted\n",
            "Accepted\n"
          ]
        }
      ],
      "source": [
        "# Complete the functions defined in this cell\n",
        "\n",
        "# Test 01: Shift Left k cell\n",
        "def shift_left(source, k):\n",
        "   #TO DO\n",
        "  for i in range(k,len(source)):\n",
        "      source[i-k]=source[i]\n",
        "  for j in range(k,len(source)):\n",
        "    source[j]=0\n",
        "  # Hint, You can write a function for left shift once and then use it\n",
        "  return source\n",
        "\n",
        "source=[10,20,30,40,50,60] \n",
        "print(\"///  Test 01: Shift Left k cell  ///\")\n",
        "returned_value = shift_left(source, 3) # This should return [40, 50, 60, 0, 0, 0]\n",
        "unittest.output_test(returned_value, [40, 50, 60, 0, 0, 0])\n",
        "\n",
        "# Test 02: Rotate Left k cell\n",
        "from IPython.core.interactiveshell import validate\n",
        "def rotate_left(source, k):\n",
        "  # TO DO\n",
        "    list1=[None]*3\n",
        "    val=0\n",
        "    while val<k:\n",
        "        list1[val]=source[val] \n",
        "        val+=1\n",
        "    for i in range(k,len(source)):\n",
        "        source[i-k]=source[i]\n",
        "        # source[i]=var\n",
        "    for j in range(0,k):\n",
        "        source[j+k]=list1[j]\n",
        "      \n",
        "  # Hint, You can write a function for left rotate once and then use it\n",
        "    return source\n",
        "\n",
        "print(\"///  Test 02: Rotate Left k cell  ///\")\n",
        "source = [10,20,30,40,50,60]\n",
        "returned_value = rotate_left(source, 3) # This should return [40, 50, 60, 10, 20, 30]\n",
        "unittest.output_test(returned_value, [40, 50, 60, 10, 20, 30])\n",
        "\n",
        "# Test 03: Shift Right k cell\n",
        "def shift_right(source, k):\n",
        "  # TO DO\n",
        "  for i in range(0,k):\n",
        "      source[i+k]=source[i]\n",
        "  for j in range(0,k):\n",
        "      source[j]=0\n",
        "  return source\n",
        "\n",
        "print(\"///  Test 03: Shift Right k cell  ///\")\n",
        "source = [10,20,30,40,50,60]\n",
        "returned_value = shift_right(source, 3) # This should return [0, 0, 0, 10, 20, 30]\n",
        "unittest.output_test(returned_value, [0, 0, 0, 10, 20, 30])\n",
        "\n",
        "\n",
        "\n",
        "# Test 04: Rotate Right k cell\n",
        "def rotate_right(source, k):\n",
        "  # TO DO\n",
        "  list1=[None]*k\n",
        "  val=0\n",
        "  while val<k:\n",
        "      list1[val]=source[val+k]\n",
        "      val+=1\n",
        "  for i in range(k,len(source)):\n",
        "      source[i]=source[i-k]\n",
        "  for i in range(0,k):\n",
        "      source[i]=list1[i]\n",
        "\n",
        "  # Hint, You can write a function for right rotate once and then use it\n",
        "  return source\n",
        "\n",
        "print(\"///  Test 04: Rotate Right k cell  ///\")\n",
        "source = [10,20,30,40,50,60]\n",
        "returned_value = rotate_right(source, 3) # This should return [40, 50, 60, 10, 20, 30]\n",
        "unittest.output_test(returned_value, [40, 50, 60, 10, 20, 30])\n",
        "\n",
        "\n",
        "\n",
        "\n",
        "# Test 05: Remove an element from an array\n",
        "def remove(source, idx):\n",
        "  # TO DO\n",
        "  for i in range(idx,len(source)-1):\n",
        "    source[i]=source[i+1]\n",
        "  return source\n",
        "  \n",
        "print(\"///  Test 05: Remove an element from an array  ///\")\n",
        "source = [10,20,30,40,50,0,0]\n",
        "returned_value = remove(source, 2) # This should return [10, 20, 40, 50, 0, 0, 0]\n",
        "unittest.output_test(returned_value, [10, 20, 40, 50, 0, 0, 0])\n",
        "\n",
        "\n",
        "# Test 06: Remove all occurrences of a particular element from an array\n",
        "def remove_all(source, element):\n",
        "  # TO DO\n",
        "    count=0\n",
        "    count2=0\n",
        "    for i in range(0,len(source)):\n",
        "        if source[i] != element:\n",
        "            source[count2] = source[count]\n",
        "            count = count + 1\n",
        "            count2 = count2 + 1\n",
        "        else:\n",
        "            count = count + 1\n",
        "    for j in range(count2,len(source)):\n",
        "        source[j] = 0\n",
        "    return source \n",
        "    \n",
        "print(\"///  Test 06: Remove all occurrences of a particular element from an array  ///\")\n",
        "source = [10,2,30,2,50,2,2,0,0]\n",
        "returned_value = remove_all(source, 2) # This should return [10, 30, 50, 0, 0, 0, 0, 0, 0]\n",
        "unittest.output_test(returned_value, [10, 30, 50, 0, 0, 0, 0, 0, 0])\n",
        "\n",
        "\n",
        "\n",
        "# Test 07: Splitting an Array\n",
        "def split_array(a):\n",
        "  # TO DO\n",
        "  i = 1\n",
        "  count1 = 0\n",
        "  count2 = 0\n",
        "  for i in range(1,len(a)):\n",
        "      list1 = [None]*i\n",
        "      list2 = [None]*(len(a)-i)\n",
        "\n",
        "      for x in range(i):\n",
        "          list1[x] = a[x]\n",
        "      for b in range(i,len(a)):\n",
        "          list2[b-i] = a[b]\n",
        "      for i in list1:\n",
        "          count1 += i\n",
        "      for j in list2:\n",
        "          count2 += j\n",
        "      if count1 == count2:\n",
        "          return True\n",
        "      list1 = []\n",
        "      list2 = []\n",
        "      count1 = 0\n",
        "      count2 = 0\n",
        "  return False\n",
        "\n",
        "print(\"///  Test 07: Splitting an Array  ///\")\n",
        "test_1 = [1, 1, 1, 2, 1] # Here splitting is possible as summation of [1, 1, 1] = summation of [2,1]\n",
        "returned_value = split_array(test_1) # This should return True\n",
        "test_2 = [2, 1, 1, 2, 1] # Here splitting is not possible\n",
        "returned_value = split_array(test_2) # This should return False\n",
        "test_3 = [10, 3, 1, 2, 10] # Here splitting is possible as summation of [10, 3] = summation of [1,2,10]\n",
        "returned_value = split_array(test_3) # This should return True\n",
        "unittest.output_test(split_array(test_1), True)\n",
        "unittest.output_test(split_array(test_2), False)\n",
        "unittest.output_test(split_array(test_3), True)\n",
        "\n",
        "# Test 08: Max Bunch Count\n",
        "def max_bunch(a):\n",
        "  # TO DO\n",
        "  count1=0\n",
        "  count2=0\n",
        "  for i in range(1,len(a)-1):\n",
        "      list1=[None]*i\n",
        "      if a[i]==a[i+1]:\n",
        "          list1=a[i]\n",
        "          count1+=1\n",
        "      else:\n",
        "          pass                \n",
        "  return count1\n",
        "\n",
        "print(\"///  Test 08: Max Bunch Count  ///\")\n",
        "returned_value = max_bunch([1, 2, 2, 3, 4, 4, 4]) # This should return 3\n",
        "unittest.output_test(returned_value, 3)\n",
        "returned_value = max_bunch([1, 1, 2, 2, 1, 1, 1, 1]) # This should return 4\n",
        "unittest.output_test(returned_value, 4)\n",
        "\n"
      ]
    },
    {
      "cell_type": "code",
      "execution_count": 1,
      "metadata": {
        "colab": {
          "base_uri": "https://localhost:8080/"
        },
        "id": "mrxIQ5rBhzPj",
        "outputId": "b27318cb-0e68-4559-9981-13dd4ad7a32b"
      },
      "outputs": [
        {
          "name": "stdout",
          "output_type": "stream",
          "text": [
            "///  Test 01: Shift Left k cell  ///\n"
          ]
        },
        {
          "ename": "NameError",
          "evalue": "name 'shift_left' is not defined",
          "output_type": "error",
          "traceback": [
            "\u001b[1;31m---------------------------------------------------------------------------\u001b[0m",
            "\u001b[1;31mNameError\u001b[0m                                 Traceback (most recent call last)",
            "Cell \u001b[1;32mIn [1], line 10\u001b[0m\n\u001b[0;32m      8\u001b[0m \u001b[38;5;28mprint\u001b[39m(\u001b[38;5;124m\"\u001b[39m\u001b[38;5;124m///  Test 01: Shift Left k cell  ///\u001b[39m\u001b[38;5;124m\"\u001b[39m)\n\u001b[0;32m      9\u001b[0m source \u001b[38;5;241m=\u001b[39m [\u001b[38;5;241m10\u001b[39m,\u001b[38;5;241m20\u001b[39m,\u001b[38;5;241m30\u001b[39m,\u001b[38;5;241m40\u001b[39m,\u001b[38;5;241m50\u001b[39m,\u001b[38;5;241m60\u001b[39m]\n\u001b[1;32m---> 10\u001b[0m returned_value \u001b[38;5;241m=\u001b[39m \u001b[43mshift_left\u001b[49m(source, \u001b[38;5;241m3\u001b[39m) \u001b[38;5;66;03m# This should return [40, 50, 60, 0, 0, 0]\u001b[39;00m\n\u001b[0;32m     11\u001b[0m unittest\u001b[38;5;241m.\u001b[39moutput_test(returned_value, [\u001b[38;5;241m40\u001b[39m, \u001b[38;5;241m50\u001b[39m, \u001b[38;5;241m60\u001b[39m, \u001b[38;5;241m0\u001b[39m, \u001b[38;5;241m0\u001b[39m, \u001b[38;5;241m0\u001b[39m])\n\u001b[0;32m     14\u001b[0m \u001b[38;5;28mprint\u001b[39m(\u001b[38;5;124m\"\u001b[39m\u001b[38;5;124m///  Test 02: Rotate Left k cell  ///\u001b[39m\u001b[38;5;124m\"\u001b[39m)\n",
            "\u001b[1;31mNameError\u001b[0m: name 'shift_left' is not defined"
          ]
        }
      ],
      "source": [
        "# This cell is the driver code\n",
        "# Run this cell after completion of above function.\n",
        "# You will see the status Accepted after completion if your code is correct.\n",
        "# If your function is wrong you will see wrong[correction percentage]\n",
        "# This is call unit testing if you are wondering the checking approach\n",
        "# No need to write or change any code here\n",
        "\n",
        "print(\"///  Test 01: Shift Left k cell  ///\")\n",
        "source = [10,20,30,40,50,60]\n",
        "returned_value = shift_left(source, 3) # This should return [40, 50, 60, 0, 0, 0]\n",
        "unittest.output_test(returned_value, [40, 50, 60, 0, 0, 0])\n",
        "\n",
        "\n",
        "print(\"///  Test 02: Rotate Left k cell  ///\")\n",
        "source = [10,20,30,40,50,60]\n",
        "returned_value = rotate_left(source, 3) # This should return [40, 50, 60, 10, 20, 30]\n",
        "unittest.output_test(returned_value, [40, 50, 60, 10, 20, 30])\n",
        "\n",
        "\n",
        "print(\"///  Test 03: Shift Right k cell  ///\")\n",
        "source = [10,20,30,40,50,60]\n",
        "returned_value = shift_right(source, 3) # This should return [0, 0, 0, 10, 20, 30]\n",
        "unittest.output_test(returned_value, [0, 0, 0, 10, 20, 30])\n",
        "\n",
        "\n",
        "print(\"///  Test 04: Rotate Right k cell  ///\")\n",
        "source = [10,20,30,40,50,60]\n",
        "returned_value = rotate_right(source, 3) # This should return [40, 50, 60, 10, 20, 30]\n",
        "unittest.output_test(returned_value, [40, 50, 60, 10, 20, 30])\n",
        "\n",
        "\n",
        "print(\"///  Test 05: Remove an element from an array  ///\")\n",
        "source = [10,20,30,40,50,0,0]\n",
        "returned_value = remove(source, 2) # This should return [10, 20, 40, 50, 0, 0, 0]\n",
        "unittest.output_test(returned_value, [10, 20, 40, 50, 0, 0, 0])\n",
        "\n",
        "\n",
        "print(\"///  Test 06: Remove all occurrences of a particular element from an array  ///\")\n",
        "source = [10,2,30,2,50,2,2,0,0]\n",
        "returned_value = remove_all(source, 2) # This should return [10, 30, 50, 0, 0, 0, 0, 0, 0]\n",
        "unittest.output_test(returned_value, [10, 30, 50, 0, 0, 0, 0, 0, 0])\n",
        "\n",
        "\n",
        "print(\"///  Test 07: Splitting an Array  ///\")\n",
        "test_1 = [1, 1, 1, 2, 1] # Here splitting is possible as summation of [1, 1, 1] = summation of [2,1]\n",
        "returned_value = split_array(test_1) # This should return True\n",
        "test_2 = [2, 1, 1, 2, 1] # Here splitting is not possible\n",
        "returned_value = split_array(test_2) # This should return False\n",
        "test_3 = [10, 3, 1, 2, 10] # Here splitting is possible as summation of [10, 3] = summation of [1,2,10]\n",
        "returned_value = split_array(test_3) # This should return True\n",
        "unittest.output_test(split_array(test_1), True)\n",
        "unittest.output_test(split_array(test_2), False)\n",
        "unittest.output_test(split_array(test_3), True)\n",
        "\n",
        "\n",
        "print(\"///  Test 08: Max Bunch Count  ///\")\n",
        "returned_value = max_bunch([1, 2, 2, 3, 4, 4, 4]) # This should return 3\n",
        "unittest.output_test(returned_value, 3)\n",
        "returned_value = max_bunch([1, 1, 2, 2, 1, 1, 1, 1]) # This should return 4\n",
        "unittest.output_test(returned_value, 4)\n"
      ]
    },
    {
      "cell_type": "code",
      "execution_count": null,
      "metadata": {
        "colab": {
          "base_uri": "https://localhost:8080/"
        },
        "id": "mTbgREAr0zZC",
        "outputId": "de893980-fe7b-455c-ea1f-61be5ffb83c3"
      },
      "outputs": [
        {
          "name": "stdout",
          "output_type": "stream",
          "text": [
            "///  Test 02: Rotate Left k cell  ///\n",
            "[10, 20, 30]\n",
            "[40, 50, 60, 10, 20, 30]\n",
            "Accepted\n"
          ]
        }
      ],
      "source": [
        "from IPython.core.interactiveshell import validate\n",
        "# Test 02: Rotate Left k cell\n",
        "def rotate_left(source, k):\n",
        "  # TO DO\n",
        "    list1=[None]*3\n",
        "    val=0\n",
        "    while val<k:\n",
        "        list1[val]=source[val] \n",
        "        val+=1\n",
        "    print(list1)\n",
        "    for i in range(k,len(source)):\n",
        "        source[i-k]=source[i]\n",
        "        # source[i]=var\n",
        "    for j in range(0,k):\n",
        "        source[j+k]=list1[j]\n",
        "      \n",
        "    print(source) \n",
        "  # Hint, You can write a function for left rotate once and then use it\n",
        "    return source\n",
        "\n",
        "print(\"///  Test 02: Rotate Left k cell  ///\")\n",
        "source = [10,20,30,40,50,60]\n",
        "returned_value = rotate_left(source, 3) # This should return [40, 50, 60, 10, 20, 30]\n",
        "unittest.output_test(returned_value, [40, 50, 60, 10, 20, 30])"
      ]
    },
    {
      "cell_type": "code",
      "execution_count": null,
      "metadata": {
        "colab": {
          "base_uri": "https://localhost:8080/"
        },
        "id": "hbxxiRTbSlW9",
        "outputId": "1fbba6ef-d331-4966-cf68-6ffcb4ee85bd"
      },
      "outputs": [
        {
          "name": "stdout",
          "output_type": "stream",
          "text": [
            "///  Test 03: Shift Right k cell  ///\n",
            "Accepted\n"
          ]
        }
      ],
      "source": [
        "# Test 03: Shift Right k cell\n",
        "def shift_right(source, k):\n",
        "  # TO DO\n",
        "  for i in range(0,k):\n",
        "      source[i+k]=source[i]\n",
        "  for j in range(0,k):\n",
        "      source[j]=0\n",
        "#   source[len(source)-k]=0\n",
        "  # Hint, You can write a function for right shift once and then use it\n",
        "  return source\n",
        "\n",
        "print(\"///  Test 03: Shift Right k cell  ///\")\n",
        "source = [10,20,30,40,50,60]\n",
        "returned_value = shift_right(source, 3) # This should return [0, 0, 0, 10, 20, 30]\n",
        "unittest.output_test(returned_value, [0, 0, 0, 10, 20, 30])\n"
      ]
    },
    {
      "cell_type": "code",
      "execution_count": null,
      "metadata": {
        "colab": {
          "base_uri": "https://localhost:8080/"
        },
        "id": "Wd_5AhKMUgrs",
        "outputId": "0eea0fed-2341-4ecd-fe0d-a382abbb3ce1"
      },
      "outputs": [
        {
          "name": "stdout",
          "output_type": "stream",
          "text": [
            "///  Test 04: Rotate Right k cell  ///\n",
            "[40, 50, 60]\n",
            "[40, 50, 60, 10, 20, 30]\n",
            "Accepted\n"
          ]
        }
      ],
      "source": [
        "# Test 04: Rotate Right k cell\n",
        "def rotate_right(source, k):\n",
        "  # TO DO\n",
        "  list1=[None]*k\n",
        "  val=0\n",
        "  while val<k:\n",
        "      list1[val]=source[val+k]\n",
        "      val+=1\n",
        "  for i in range(k,len(source)):\n",
        "      source[i]=source[i-k]\n",
        "  for i in range(0,k):\n",
        "      source[i]=list1[i]\n",
        "  print(list1)\n",
        "  print(source)\n",
        "\n",
        "  # Hint, You can write a function for right rotate once and then use it\n",
        "  return source\n",
        "\n",
        "print(\"///  Test 04: Rotate Right k cell  ///\")\n",
        "source = [10,20,30,40,50,60]\n",
        "returned_value = rotate_right(source, 3) # This should return [40, 50, 60, 10, 20, 30]\n",
        "unittest.output_test(returned_value, [40, 50, 60, 10, 20, 30])\n"
      ]
    },
    {
      "cell_type": "code",
      "execution_count": null,
      "metadata": {
        "colab": {
          "base_uri": "https://localhost:8080/"
        },
        "id": "devZylsYWIfy",
        "outputId": "a290ad14-3185-419d-9c39-8d7691efa1cb"
      },
      "outputs": [
        {
          "name": "stdout",
          "output_type": "stream",
          "text": [
            "///  Test 05: Remove an element from an array  ///\n",
            "[10, 20, 40, 50, 0, 0, 0]\n",
            "Accepted\n"
          ]
        }
      ],
      "source": [
        "# Test 05: Remove an element from an array\n",
        "def remove(source, idx):\n",
        "  # TO DO\n",
        "  for i in range(idx,len(source)-1):\n",
        "    source[i]=source[i+1]\n",
        "  print(source)\n",
        "  #=========================================================\n",
        "  return source\n",
        "  \n",
        "print(\"///  Test 05: Remove an element from an array  ///\")\n",
        "source = [10,20,30,40,50,0,0]\n",
        "returned_value = remove(source, 2) # This should return [10, 20, 40, 50, 0, 0, 0]\n",
        "unittest.output_test(returned_value, [10, 20, 40, 50, 0, 0, 0])"
      ]
    },
    {
      "cell_type": "code",
      "execution_count": null,
      "metadata": {
        "colab": {
          "base_uri": "https://localhost:8080/"
        },
        "id": "v7Sxfe5udpAS",
        "outputId": "929d759b-e34d-4acb-f540-100b8b4fce2f"
      },
      "outputs": [
        {
          "name": "stdout",
          "output_type": "stream",
          "text": [
            "///  Test 06: Remove all occurrences of a particular element from an array  ///\n",
            "[10, 30, 50, 0, 0, 0, 0, 0, 0]\n",
            "Accepted\n"
          ]
        }
      ],
      "source": [
        "# Test 06: Remove all occurrences of a particular element from an array\n",
        "def remove_all(source, element):\n",
        "  # TO DO\n",
        "    count=0\n",
        "    count2=0\n",
        "    for i in range(0,len(source)):\n",
        "        if source[i] != element:\n",
        "            source[count2] = source[count]\n",
        "            count = count + 1\n",
        "            count2 = count2 + 1\n",
        "        else:\n",
        "            count = count + 1\n",
        "    for j in range(count2,len(source)):\n",
        "        source[j] = 0\n",
        "    print(source)\n",
        "    return source \n",
        "    \n",
        "print(\"///  Test 06: Remove all occurrences of a particular element from an array  ///\")\n",
        "source = [10,2,30,2,50,2,2,0,0]\n",
        "returned_value = remove_all(source, 2) # This should return [10, 30, 50, 0, 0, 0, 0, 0, 0]\n",
        "unittest.output_test(returned_value, [10, 30, 50, 0, 0, 0, 0, 0, 0])"
      ]
    },
    {
      "cell_type": "code",
      "execution_count": null,
      "metadata": {
        "colab": {
          "base_uri": "https://localhost:8080/"
        },
        "id": "MvyYylaZo3tb",
        "outputId": "8b5d0f51-81f8-43e1-ab60-333dca8b529f"
      },
      "outputs": [
        {
          "name": "stdout",
          "output_type": "stream",
          "text": [
            "///  Test 07: Splitting an Array  ///\n",
            "Accepted\n",
            "Accepted\n",
            "Accepted\n"
          ]
        }
      ],
      "source": [
        "# Test 07: Splitting an Array\n",
        "def split_array(a):\n",
        "  # TO DO\n",
        "  i = 1\n",
        "  count1 = 0\n",
        "  count2 = 0\n",
        "  for i in range(1,len(a)):\n",
        "      list1 = [None]*i\n",
        "      list2 = [None]*(len(a)-i)\n",
        "\n",
        "      for x in range(i):\n",
        "          list1[x] = a[x]\n",
        "      for b in range(i,len(a)):\n",
        "          list2[b-i] = a[b]\n",
        "      for i in list1:\n",
        "          count1 += i\n",
        "      for j in list2:\n",
        "          count2 += j\n",
        "      if count1 == count2:\n",
        "          return True\n",
        "      list1 = []\n",
        "      list2 = []\n",
        "      count1 = 0\n",
        "      count2 = 0\n",
        "  return False\n",
        "\n",
        "print(\"///  Test 07: Splitting an Array  ///\")\n",
        "test_1 = [1, 1, 1, 2, 1] # Here splitting is possible as summation of [1, 1, 1] = summation of [2,1]\n",
        "returned_value = split_array(test_1) # This should return True\n",
        "test_2 = [2, 1, 1, 2, 1] # Here splitting is not possible\n",
        "returned_value = split_array(test_2) # This should return False\n",
        "test_3 = [10, 3, 1, 2, 10] # Here splitting is possible as summation of [10, 3] = summation of [1,2,10]\n",
        "returned_value = split_array(test_3) # This should return True\n",
        "unittest.output_test(split_array(test_1), True)\n",
        "unittest.output_test(split_array(test_2), False)\n",
        "unittest.output_test(split_array(test_3), True)"
      ]
    },
    {
      "cell_type": "code",
      "execution_count": null,
      "metadata": {
        "colab": {
          "base_uri": "https://localhost:8080/"
        },
        "id": "PGx07zU8YSwx",
        "outputId": "74f19655-76e4-403e-8c52-c2ee63436b2d"
      },
      "outputs": [
        {
          "name": "stdout",
          "output_type": "stream",
          "text": [
            "///  Test 08: Max Bunch Count  ///\n",
            "Accepted\n",
            "Accepted\n"
          ]
        }
      ],
      "source": [
        "# Test 08: Max Bunch Count\n",
        "def max_bunch(a):\n",
        "  # TO DO\n",
        "  count1=0\n",
        "  count2=0\n",
        "  \n",
        "  for i in range(1,len(a)-1):\n",
        "      list1=[None]*i\n",
        "      if a[i]==a[i+1]:\n",
        "          list1=a[i]\n",
        "          count1+=1\n",
        "      else:\n",
        "          pass\n",
        "#   print(list1)\n",
        "#   print(count1)\n",
        "                \n",
        "  return count1\n",
        "\n",
        "print(\"///  Test 08: Max Bunch Count  ///\")\n",
        "returned_value = max_bunch([1, 2, 2, 3, 4, 4, 4]) # This should return 3\n",
        "unittest.output_test(returned_value, 3)\n",
        "returned_value = max_bunch([1, 1, 2, 2, 1, 1, 1, 1]) # This should return 4\n",
        "unittest.output_test(returned_value, 4)\n"
      ]
    },
    {
      "cell_type": "markdown",
      "metadata": {
        "id": "yY49FE73nOzx"
      },
      "source": [
        "# Lab_01 || Part_02\n"
      ]
    },
    {
      "cell_type": "code",
      "execution_count": null,
      "metadata": {
        "colab": {
          "base_uri": "https://localhost:8080/"
        },
        "id": "TME6FHaQnNRC",
        "outputId": "532830d4-15ac-4b2d-b96d-b35c9ca51692"
      },
      "outputs": [
        {
          "name": "stdout",
          "output_type": "stream",
          "text": [
            "10.181818181818182\n"
          ]
        }
      ],
      "source": [
        "#test-01:\n",
        "def arrayMean(number):\n",
        "    total=0\n",
        "    for i in range(len(number)):\n",
        "        #if len(number)<12:\n",
        "        total=total+number[i]\n",
        "        mean=total/len(number)\n",
        "    print(mean)\n",
        "\n",
        "number=[10, 8, 13, 9, 14, 25, -5, 20, 7, 7, 4]\n",
        "arrayMean(number)"
      ]
    },
    {
      "cell_type": "code",
      "execution_count": null,
      "metadata": {
        "colab": {
          "base_uri": "https://localhost:8080/"
        },
        "id": "-aeaszKgrGoj",
        "outputId": "70a99c98-cc51-44dc-f1c2-4e1543f46297"
      },
      "outputs": [
        {
          "name": "stdout",
          "output_type": "stream",
          "text": [
            "9.876050001714432\n"
          ]
        }
      ],
      "source": [
        "#test-02:\n",
        "import math\n",
        "def arrayMean(number):\n",
        "    sd=0\n",
        "    total=0\n",
        "    sum=0\n",
        "    for i in range(len(number)):\n",
        "        total=total+number[i]\n",
        "        mean=total/len(number)\n",
        "        sum=sum+(number[i]-mean)**2\n",
        "        divide=sum/(len(number)-1)\n",
        "        sd=math.sqrt(divide)\n",
        "    print(sd)\n",
        "\n",
        "number=[10, 8, 13, 9, 14, 25, -5, 20, 7, 7, 4]\n",
        "arrayMean(number)"
      ]
    },
    {
      "cell_type": "code",
      "execution_count": null,
      "metadata": {
        "id": "dOo83inDwlJm"
      },
      "outputs": [],
      "source": [
        "#test-03:\n",
        "import math\n",
        "def arrayMean(number):\n",
        "    sd=0\n",
        "    total=0\n",
        "    sum=0\n",
        "    list1=[None]*len(number)\n",
        "    for i in range(len(number)):\n",
        "        total=total+number[i]\n",
        "        mean=total/len(number)\n",
        "        sum=sum+(number[i]-mean)**2\n",
        "        divide=sum/(len(number)-1)\n",
        "        sd=math.sqrt(divide)\n",
        "\n",
        "        value=mean+(sd*1.5)\n",
        "        value1=mean-(sd*1.5)\n",
        "    count=0\n",
        "    for i in range(len(number)):\n",
        "        if number[i]>value or number[i]<value1:\n",
        "            list1[i]=number[i]\n",
        "            count+=1\n",
        "    print(count)\n",
        "    j=0\n",
        "    strt=0\n",
        "    list2=[None]*count\n",
        "    while j<len(list1):\n",
        "        if list1[j]!=None:\n",
        "            list2[strt]=list1[j]\n",
        "            strt+=1\n",
        "\n",
        "        j+=1\n",
        "    print(list2)\n",
        "    \n",
        "number=[10, 8, 13, 9, 14, 25, -5, 20, 7, 7, 4]\n",
        "arrayMean(number)"
      ]
    }
  ],
  "metadata": {
    "colab": {
      "provenance": []
    },
    "kernelspec": {
      "display_name": "Python 3.9.10 64-bit",
      "language": "python",
      "name": "python3"
    },
    "language_info": {
      "codemirror_mode": {
        "name": "ipython",
        "version": 3
      },
      "file_extension": ".py",
      "mimetype": "text/x-python",
      "name": "python",
      "nbconvert_exporter": "python",
      "pygments_lexer": "ipython3",
      "version": "3.9.10"
    },
    "vscode": {
      "interpreter": {
        "hash": "422b1f1b902e0e7405ad72e2f513fbe0974f660e60f0ed12b91a714c9f730262"
      }
    }
  },
  "nbformat": 4,
  "nbformat_minor": 0
}
