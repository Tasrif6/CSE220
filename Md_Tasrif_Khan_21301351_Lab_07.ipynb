{
  "nbformat": 4,
  "nbformat_minor": 0,
  "metadata": {
    "colab": {
      "provenance": []
    },
    "kernelspec": {
      "name": "python3",
      "display_name": "Python 3"
    },
    "language_info": {
      "name": "python"
    }
  },
  "cells": [
    {
      "cell_type": "code",
      "source": [
        "var='Hello! This is Tasrif coding.'\n",
        "print(var)"
      ],
      "metadata": {
        "colab": {
          "base_uri": "https://localhost:8080/"
        },
        "id": "E4B4Zd55xQbt",
        "outputId": "6c42e0f3-34e5-4e00-be06-a389e150d926"
      },
      "execution_count": null,
      "outputs": [
        {
          "output_type": "stream",
          "name": "stdout",
          "text": [
            "Hello! This is Tasrif coding.\n"
          ]
        }
      ]
    },
    {
      "cell_type": "code",
      "source": [
        "#task-1:\n",
        "#Keyindex searching and sorting:\n",
        "class KeyIndex:\n",
        "    def __init__(self,a):\n",
        "       self.list1 = a\n",
        "\n",
        "    def maxi(self):\n",
        "      max_num = self.list1[0]\n",
        "      for i in self.list1:\n",
        "        if i > max_num:\n",
        "          max_num = i\n",
        "      return max_num\n",
        "    def mini(self):\n",
        "      min_num = self.list1[0]\n",
        "      for i in self.list1:\n",
        "        if i < min_num:\n",
        "           min_num = i\n",
        "      return min_num\n",
        "    def aux(self):\n",
        "      max_num = self.maxi()  #5\n",
        "      min_num = self.mini()  #-4\n",
        "      arr= [0]*(max_num+abs(min_num)+1)    #5+4+1=9\n",
        "      for i in range(len(self.list1)):     #list1=[4,-2,-2,4,5,-4]\n",
        "        arr[self.list1[i]+abs(min_num)] += 1    #arr[1+4]+=1\n",
        "      print(arr)\n",
        "      return arr\n",
        "    def search(self,val):\n",
        "      arr = self.aux()\n",
        "      min_num = abs(self.mini())\n",
        "      for i in range(len(arr)):\n",
        "        if arr[i] > 0:\n",
        "          if i-min_num == val:\n",
        "            return True\n",
        "      return False\n",
        "    def sort(self):\n",
        "      arr = self.aux()   #[8,2,2,8,13,0]\n",
        "      num = 0\n",
        "      min_num = self.mini()\n",
        "      for i in range(len(arr)):\n",
        "        while(arr[i] > 0):\n",
        "            self.list1[num] = i - abs(min_num)\n",
        "            num = num + 1\n",
        "            arr[i] = arr[i] - 1\n",
        "      return self.list1\n",
        "\n",
        "\n",
        "a = [4,-2,-2,4,5,-4]\n",
        "obj = KeyIndex(a)\n",
        "print(obj.search(-2))\n",
        "print(obj.sort())"
      ],
      "metadata": {
        "colab": {
          "base_uri": "https://localhost:8080/"
        },
        "id": "rgfRMDm1_IUP",
        "outputId": "18b813de-0d97-4767-8726-fd1189e2130a"
      },
      "execution_count": null,
      "outputs": [
        {
          "output_type": "stream",
          "name": "stdout",
          "text": [
            "[1, 0, 2, 0, 0, 0, 0, 0, 2, 1]\n",
            "True\n",
            "[1, 0, 2, 0, 0, 0, 0, 0, 2, 1]\n",
            "[-4, -2, -2, 4, 4, 5]\n"
          ]
        }
      ]
    },
    {
      "cell_type": "code",
      "source": [
        "#Hashing:\n",
        "#task-02\n",
        "def hastable(s):\n",
        "    list1=[]\n",
        "    vowel=['A','E','I','O','U']\n",
        "    for i in string:\n",
        "        list1.append(i)\n",
        "    print(list1)\n",
        "    list2=[]\n",
        "    list3=[]\n",
        "    count1=0\n",
        "    count2=0\n",
        "    for j in range(len(list1)):\n",
        "        if ord(list1[j])>48 and ord(list1[j])<58:\n",
        "            list2.append(list1[j])\n",
        "            count2+=1\n",
        "        else:\n",
        "            list3.append(list1[j])\n",
        "    print(f'{list2} \\n{list3}')\n",
        "    for j in range(len(list3)): \n",
        "        # for l in list3:\n",
        "        if list3[j] not in vowel:\n",
        "            count1+=1\n",
        "    new_list=[]\n",
        "    for i in list2:\n",
        "        new_list.append(int(i))\n",
        "    print(new_list)\n",
        "    print(count1,count2)\n",
        "    value=0\n",
        "    for j in new_list:\n",
        "        value+=j\n",
        "    print(value)\n",
        "    final_value=(count1*24+(value))%9\n",
        "    print(f'Final value: {final_value}')\n",
        "string='ST1E89B8A32'\n",
        "hastable(string)"
      ],
      "metadata": {
        "colab": {
          "base_uri": "https://localhost:8080/"
        },
        "id": "aeqoVj3FxW9g",
        "outputId": "cdaa6392-56d9-4aa5-aa10-d6828e8ec89a"
      },
      "execution_count": null,
      "outputs": [
        {
          "output_type": "stream",
          "name": "stdout",
          "text": [
            "['S', 'T', '1', 'E', '8', '9', 'B', '8', 'A', '3', '2']\n",
            "['1', '8', '9', '8', '3', '2'] \n",
            "['S', 'T', 'E', 'B', 'A']\n",
            "[1, 8, 9, 8, 3, 2]\n",
            "3 6\n",
            "31\n",
            "Final value: 4\n"
          ]
        }
      ]
    },
    {
      "cell_type": "code",
      "source": [
        "list1=['1','2','3','4']\n",
        "new_list=[]\n",
        "for i in range(len(list1)):\n",
        "    new_list.append(int(list1[i]))\n",
        "print(new_list)"
      ],
      "metadata": {
        "colab": {
          "base_uri": "https://localhost:8080/"
        },
        "id": "GlgTW4eJm4LN",
        "outputId": "33e3c763-9457-47d3-dcee-24b628be66f4"
      },
      "execution_count": null,
      "outputs": [
        {
          "output_type": "stream",
          "name": "stdout",
          "text": [
            "[1, 2, 3, 4]\n"
          ]
        }
      ]
    }
  ]
}