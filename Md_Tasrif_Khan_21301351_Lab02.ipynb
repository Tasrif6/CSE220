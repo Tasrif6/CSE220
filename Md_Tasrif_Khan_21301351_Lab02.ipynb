{
  "cells": [
    {
      "cell_type": "code",
      "execution_count": null,
      "metadata": {
        "colab": {
          "base_uri": "https://localhost:8080/"
        },
        "id": "Ckh_dWndT2gn",
        "outputId": "983ec4ff-5daf-483e-f007-a41270c9478f"
      },
      "outputs": [
        {
          "name": "stdout",
          "output_type": "stream",
          "text": [
            "Hello! This is Tasrif coding\n"
          ]
        }
      ],
      "source": [
        "var='Hello! This is Tasrif coding'\n",
        "print(var)"
      ]
    },
    {
      "cell_type": "code",
      "execution_count": null,
      "metadata": {
        "colab": {
          "base_uri": "https://localhost:8080/"
        },
        "id": "9PzOTnvBUUEG",
        "outputId": "9ce88402-319a-4de7-ef66-f2b6b215831d"
      },
      "outputs": [
        {
          "name": "stdout",
          "output_type": "stream",
          "text": [
            "Sir, please enter your desired input: giRtfel2th\n",
            "Sir, please enter your desired input: rightLeft2\n",
            "R\n",
            "2\n",
            "['g', 'i', 'R', 't', 'f', 'e', 'l', '2', 't', 'h']\n",
            "['r', 'i', 'g', 'h', 't', 'L', 'e', 'f', 't', '2']\n",
            "[['g', 'i', 'R', 't', 'f', 'e', 'l', '2', 't', 'h'], ['r', 'i', 'g', 'h', 't', 'L', 'e', 'f', 't', '2']]\n",
            "L\n",
            "5\n",
            "['r', 'i', 'g', 'h', 't', 'L', 'e', 'f', 't', '2']\n",
            "['r', 'i', 'g', 'h', 't', 'L', 'e', 'f', 't', '2']\n",
            "[['g', 'i', 'R', 't', 'f', 'e', 'l', '2', 't', 'h'], ['r', 'i', 'g', 'h', 't', 'L', 'e', 'f', 't', '2']]\n",
            "Right2left\n",
            "Left2right\n"
          ]
        }
      ],
      "source": [
        "#test-1,2,3:\n",
        "user1=str(input('Sir, please enter your desired input: '))\n",
        "user2=str(input('Sir, please enter your desired input: '))\n",
        "list1=[None]*len(user1)\n",
        "list2=[None]*len(user2)\n",
        "new_list=[]\n",
        "var=''\n",
        "count=0\n",
        "\n",
        "if len(list1)>10:\n",
        "    print('Invaid input')\n",
        "else:\n",
        "    for i in range(len(user1)):\n",
        "        list1[i]=user1[i]\n",
        "        if ord(user1[i])>=65 and ord(user1[i])<=90:\n",
        "            var+=user1[i]\n",
        "            count+=i\n",
        "    print(var)\n",
        "    print(count)\n",
        "    print(list1)\n",
        "    for i in range(len(user2)):\n",
        "        list2[i]=user2[i]\n",
        "    print(list2)\n",
        "    new_list=[list1]+[list2]\n",
        "    print(new_list)\n",
        "count2=0\n",
        "var2=''\n",
        "if len(list2)>10:\n",
        "    print('Invaid input')\n",
        "else:\n",
        "    for i in range(len(user2)):\n",
        "        list2[i]=user2[i]\n",
        "        if ord(user2[i])>=65 and ord(user2[i])<=90:\n",
        "            var2+=user2[i]\n",
        "            count2+=i\n",
        "    print(var2)\n",
        "    print(count2)\n",
        "    print(list2)\n",
        "    for i in range(len(user2)):\n",
        "        list2[i]=user2[i]\n",
        "    print(list2)\n",
        "    new_list=[list1]+[list2]\n",
        "    print(new_list)\n",
        "\n",
        "def leftrotate(list1,count):\n",
        "    capital=''\n",
        "    for i in range(len(list1)):\n",
        "        capital+=list1[count-i]\n",
        "    \n",
        "    print(capital)\n",
        "leftrotate(list1,count)\n",
        "\n",
        "def rightrotate(list2,count2):\n",
        "    capital=''\n",
        "    for i in range(len(list2)):\n",
        "        number=count2+i\n",
        "        if number<len(list2):\n",
        "            capital+=list2[count2+i] \n",
        "        elif number>=len(list2):\n",
        "            number=number%len(list2)\n",
        "            capital+=list2[number]   \n",
        "    print(capital)\n",
        "rightrotate(list2,count2)\n",
        "   "
      ]
    }
  ],
  "metadata": {
    "colab": {
      "provenance": []
    },
    "kernelspec": {
      "display_name": "Python 3.9.10 64-bit",
      "language": "python",
      "name": "python3"
    },
    "language_info": {
      "name": "python",
      "version": "3.9.10"
    },
    "vscode": {
      "interpreter": {
        "hash": "422b1f1b902e0e7405ad72e2f513fbe0974f660e60f0ed12b91a714c9f730262"
      }
    }
  },
  "nbformat": 4,
  "nbformat_minor": 0
}
