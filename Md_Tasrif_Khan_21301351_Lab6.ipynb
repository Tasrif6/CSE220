{
  "cells": [
    {
      "cell_type": "code",
      "execution_count": null,
      "metadata": {
        "colab": {
          "base_uri": "https://localhost:8080/"
        },
        "id": "p1mBczsjuWBd",
        "outputId": "a0c18a58-7fb4-411a-dad3-48c2dd32f86a"
      },
      "outputs": [
        {
          "name": "stdout",
          "output_type": "stream",
          "text": [
            "Hello! This is Tasrif coding\n"
          ]
        }
      ],
      "source": [
        "var='Hello! This is Tasrif coding'\n",
        "print(var)"
      ]
    },
    {
      "cell_type": "code",
      "execution_count": null,
      "metadata": {
        "colab": {
          "base_uri": "https://localhost:8080/"
        },
        "id": "FXoG8BVXqrUW",
        "outputId": "f1d53681-25ca-4655-d160-903022c6fa90"
      },
      "outputs": [
        {
          "name": "stdout",
          "output_type": "stream",
          "text": [
            "5\n",
            "20\n",
            "60\n",
            "120\n"
          ]
        }
      ],
      "source": [
        "def factorial(n,i):\n",
        "    result=i*n\n",
        "    if n-1>0:\n",
        "        print(result)\n",
        "        factorial(n-1,result)\n",
        "   \n",
        "factorial(5,1)\n",
        "#5!=5*4*3*2*1=120\n",
        "# 5\n",
        "# 20\n",
        "# 60\n",
        "# 120"
      ]
    },
    {
      "cell_type": "code",
      "execution_count": null,
      "metadata": {
        "colab": {
          "base_uri": "https://localhost:8080/"
        },
        "id": "U1uvtWmK2acr",
        "outputId": "b2573b1a-12fd-44de-b02d-00b39d4627ee"
      },
      "outputs": [
        {
          "name": "stdout",
          "output_type": "stream",
          "text": [
            "5\n",
            "True\n"
          ]
        }
      ],
      "source": [
        "def fibonacci(arr,n):\n",
        "    # if n!=arr:\n",
        "    #     print('Invalid index')\n",
        "\n",
        "    # result=arr[i]+arr[i+1]\n",
        "    # if result==inp:\n",
        "    #     print(result)\n",
        "    # fibonacci(arr,n,i+1)\n",
        "    if n==0 or n==1:\n",
        "        return n\n",
        "    return fibonacci(arr,n-1)+fibonacci(arr,n-2)\n",
        "inp=int(input())\n",
        "arr=[0,1,1,2,3,5,8,13]\n",
        "h1=fibonacci(arr,inp)\n",
        "if (arr[inp-1]+arr[inp-2])==h1:\n",
        "    print(True)\n",
        "else:\n",
        "    print('Invalid Index')"
      ]
    },
    {
      "cell_type": "code",
      "execution_count": 13,
      "metadata": {
        "colab": {
          "base_uri": "https://localhost:8080/"
        },
        "id": "w5VamTbViRCm",
        "outputId": "8d585297-0899-472c-f0d6-cb060df6d797"
      },
      "outputs": [
        {
          "name": "stdout",
          "output_type": "stream",
          "text": [
            "[0, 0, 0, 0, 0, 0, 0, 8]\n",
            "[0, 0, 0, 0, 0, 0, 7, 0]\n",
            "[0, 0, 0, 0, 0, 5, 0, 0]\n",
            "[0, 0, 0, 0, 5, 0, 0, 0]\n",
            "[0, 0, 0, 4, 0, 0, 0, 0]\n",
            "[0, 0, 3, 0, 0, 0, 0, 0]\n",
            "[0, 2, 0, 0, 0, 0, 0, 0]\n",
            "[1, 0, 0, 0, 0, 0, 0, 0]\n"
          ]
        }
      ],
      "source": [
        "def recarsive(n,i):\n",
        "    if i==len(arr):\n",
        "        return 'Invalid index'\n",
        "    else:\n",
        "        list1=[0]*len(n)\n",
        "        list1[i]=n[i]\n",
        "        recarsive(n,i+1)\n",
        "    print(list1)\n",
        "arr=[1,2,3,4,5,5,7,8]\n",
        "recarsive(arr,0)"
      ]
    },
    {
      "cell_type": "code",
      "execution_count": null,
      "metadata": {
        "colab": {
          "base_uri": "https://localhost:8080/"
        },
        "id": "rsr-TBxfMdar",
        "outputId": "496bbca1-b8e9-4e64-ed86-3549aaaf5dad"
      },
      "outputs": [
        {
          "name": "stdout",
          "output_type": "stream",
          "text": [
            "3\n",
            "3\n"
          ]
        },
        {
          "data": {
            "text/plain": [
              "27"
            ]
          },
          "execution_count": 11,
          "metadata": {},
          "output_type": "execute_result"
        }
      ],
      "source": [
        "def power(n,i):\n",
        "    if i==1:\n",
        "        return n\n",
        "    return n*power(n,i-1)\n",
        "    # result=n**i\n",
        "    # print(result)\n",
        "    # if i+1<4:\n",
        "    #     power(n,i+1)\n",
        "\n",
        "inp=int(input())\n",
        "inp1=int(input())\n",
        "power(inp,inp1)"
      ]
    },
    {
      "cell_type": "code",
      "execution_count": null,
      "metadata": {
        "colab": {
          "base_uri": "https://localhost:8080/",
          "height": 52
        },
        "id": "UBMXpoyQAD0o",
        "outputId": "315a072c-2d9d-495a-de18-11f8920b0996"
      },
      "outputs": [
        {
          "name": "stdout",
          "output_type": "stream",
          "text": [
            "6\n"
          ]
        },
        {
          "data": {
            "application/vnd.google.colaboratory.intrinsic+json": {
              "type": "string"
            },
            "text/plain": [
              "'110'"
            ]
          },
          "execution_count": 27,
          "metadata": {},
          "output_type": "execute_result"
        }
      ],
      "source": [
        "def decimal_binary(n):\n",
        "    if n==1:\n",
        "        return str(1)\n",
        "    return decimal_binary(n//2)+str(n%2)\n",
        "\n",
        "\n",
        "n=int(input())\n",
        "decimal_binary(n)\n",
        "#2-10"
      ]
    },
    {
      "cell_type": "code",
      "execution_count": null,
      "metadata": {
        "id": "l-Wsy4EgXfSo"
      },
      "outputs": [],
      "source": [
        "class Node:\n",
        "    def __init__(self,element,next):\n",
        "        self.element=element\n",
        "        self.next=next"
      ]
    },
    {
      "cell_type": "code",
      "execution_count": null,
      "metadata": {
        "colab": {
          "base_uri": "https://localhost:8080/"
        },
        "id": "xmqyzvEWTCuy",
        "outputId": "d7253fa4-d840-4103-d606-40431a72cc49"
      },
      "outputs": [
        {
          "name": "stdout",
          "output_type": "stream",
          "text": [
            "<__main__.Node object at 0x7f4f5b619b20>\n",
            "34\n"
          ]
        }
      ],
      "source": [
        "class LinkedList:\n",
        "    def __init__(self,list2):\n",
        "        self.list2=list2\n",
        "        self.head=None\n",
        "        self.head=Node(self.list2[0],None)\n",
        "        tail=self.head\n",
        "        for i in range(1,len(list2)):\n",
        "            a=Node(self.list2[i],None)\n",
        "            tail.next=a\n",
        "            tail=tail.next\n",
        "        \n",
        "    def recar(self,head):\n",
        "        temp=head\n",
        "        if temp.next==None:\n",
        "            return temp.element\n",
        "        return temp.element + self.recar(head.next)\n",
        "    \n",
        "    \n",
        "list2=[1,2,3,4,5,5,6,8]\n",
        "h1=LinkedList(list2)\n",
        "print(h1.head)\n",
        "print(h1.recar(h1.head))"
      ]
    },
    {
      "cell_type": "code",
      "execution_count": null,
      "metadata": {
        "colab": {
          "base_uri": "https://localhost:8080/"
        },
        "id": "zXb3xO0OzpW5",
        "outputId": "4f9a690c-4eb5-460a-a1f6-3adcb9035d53"
      },
      "outputs": [
        {
          "name": "stdout",
          "output_type": "stream",
          "text": [
            "8\n",
            "6\n",
            "5\n",
            "5\n",
            "4\n",
            "3\n",
            "2\n",
            "1\n"
          ]
        }
      ],
      "source": [
        "def reverse_recar(n):\n",
        "    if n==None:\n",
        "        return\n",
        "    # print(reverse_recar(n.next))\n",
        "    reverse_recar(n.next)\n",
        "    print(n.element)\n",
        "    \n",
        "    \n",
        "\n",
        "reverse_recar(h1.head)"
      ]
    },
    {
      "cell_type": "code",
      "execution_count": null,
      "metadata": {
        "id": "LHZrLl1UURN4"
      },
      "outputs": [],
      "source": [
        "def hocBuilder(height): \n",
        "  if height == 1:\n",
        "    return 8\n",
        "  else:\n",
        "    return 5 + hocBuilder(height-1)\n"
      ]
    },
    {
      "cell_type": "code",
      "execution_count": null,
      "metadata": {
        "colab": {
          "base_uri": "https://localhost:8080/"
        },
        "id": "fCBq1ReTB-sO",
        "outputId": "d7e7c2bd-27c5-468b-a212-e7c8e90c4271"
      },
      "outputs": [
        {
          "name": "stdout",
          "output_type": "stream",
          "text": [
            "5\n",
            "1 2 3 \n",
            "1 \n",
            "1 2 \n",
            "1 2 3 \n",
            "1 2 3 4 \n",
            "1 2 3 4 5 \n"
          ]
        }
      ],
      "source": [
        "def recar(n):\n",
        "    if n==1:\n",
        "        print(n,end=' ')\n",
        "        return \n",
        "    else:\n",
        "        recar(n-1)\n",
        "        print(n,end=' ')  \n",
        "def space(n):\n",
        "    if n==1:\n",
        "        recar(n)\n",
        "        print()        \n",
        "    else:\n",
        "        space(n-1)\n",
        "        recar(n)\n",
        "        print()\n",
        "\n",
        "\n",
        "n=int(input())\n",
        "recar(3)\n",
        "print()\n",
        "space(n)"
      ]
    },
    {
      "cell_type": "code",
      "execution_count": null,
      "metadata": {
        "colab": {
          "base_uri": "https://localhost:8080/"
        },
        "id": "5VI40UlA6LZs",
        "outputId": "465700ad-af6f-4c14-af36-9c16f99c0f57"
      },
      "outputs": [
        {
          "name": "stdout",
          "output_type": "stream",
          "text": [
            "5\n",
            "5\n",
            "1 2 3 4 5 \n",
            "* * * * 1 \n",
            "* * * 1 2 \n",
            "* * 1 2 3 \n",
            "* 1 2 3 4 \n",
            "1 2 3 4 5 \n",
            "* * * * * "
          ]
        }
      ],
      "source": [
        "def recar(n):\n",
        "    if n==1:\n",
        "        print(n,end=' ')\n",
        "        return \n",
        "    else:\n",
        "        recar(n-1)\n",
        "        print(n,end=' ')\n",
        "\n",
        "def space(n,m):\n",
        "    if n==1:\n",
        "        faka(m-1)\n",
        "        recar(n)\n",
        "        print()\n",
        "        return \n",
        "    else:\n",
        "        space(n-1,m)\n",
        "        faka(m-n)\n",
        "        recar(n)\n",
        "        print()\n",
        "def faka(m):\n",
        "    if m==0:\n",
        "        return \n",
        "    else:\n",
        "        faka(m-1)\n",
        "        print('*',end=' ')\n",
        "\n",
        "\n",
        "n=int(input()) \n",
        "m=int(input())\n",
        "recar(n)\n",
        "print()\n",
        "space(n,m) \n",
        "faka(m)"
      ]
    },
    {
      "cell_type": "code",
      "execution_count": null,
      "metadata": {
        "colab": {
          "base_uri": "https://localhost:8080/"
        },
        "id": "Rp9-burmMOQ9",
        "outputId": "8d44c67d-0cd8-4689-afaa-bb741aff7cae"
      },
      "outputs": [
        {
          "name": "stdout",
          "output_type": "stream",
          "text": [
            "1 . Investment:  25000 ; Profit: 0.0\n",
            "2 . Investment:  100000 ; Profit: 3375.0\n",
            "3 . Investment:  250000 ; Profit: 15375.0\n",
            "4 . Investment:  350000 ; Profit: 23375.0\n"
          ]
        }
      ],
      "source": [
        "class FinalQ: \n",
        "    def print(self,array,idx): \n",
        "        if(idx<len(array)): \n",
        "            profit = self.calcProfit(array[idx])\n",
        "            if idx == len(array)-1:\n",
        "                print(idx+1,\". Investment: \",array[idx],\"; Profit:\",profit)\n",
        "            else:\n",
        "                print(idx+1,\". Investment: \",array[idx],\"; Profit:\",profit)\n",
        "                self.print(array,idx+1)\n",
        "    def calcProfit(self,investment): \n",
        "        if investment == 25000:\n",
        "            return 0.0\n",
        "        else:\n",
        "            man = 75000/100\n",
        "            res1 = man + man + man + man + man/2\n",
        "            inv = investment - 100000\n",
        "            inv = inv/100\n",
        "            res2 = inv + inv + inv + inv + inv + inv + inv + inv\n",
        "            res = res1 + res2\n",
        "            return float(res)  \n",
        "#Tester\n",
        "\n",
        "array=[25000,100000,250000,350000] \n",
        "f = FinalQ() \n",
        "f.print(array,0)"
      ]
    },
    {
      "cell_type": "code",
      "execution_count": null,
      "metadata": {
        "colab": {
          "base_uri": "https://localhost:8080/",
          "height": 397
        },
        "id": "DyhgYo0rCNmG",
        "outputId": "e9055cbb-a957-468a-b611-c3ef51007da2"
      },
      "outputs": [
        {
          "ename": "RecursionError",
          "evalue": "ignored",
          "output_type": "error",
          "traceback": [
            "\u001b[0;31m---------------------------------------------------------------------------\u001b[0m",
            "\u001b[0;31mRecursionError\u001b[0m                            Traceback (most recent call last)",
            "\u001b[0;32m<ipython-input-3-753983e759f7>\u001b[0m in \u001b[0;36m<module>\u001b[0;34m\u001b[0m\n\u001b[1;32m     17\u001b[0m \u001b[0;31m#driver code:\u001b[0m\u001b[0;34m\u001b[0m\u001b[0;34m\u001b[0m\u001b[0m\n\u001b[1;32m     18\u001b[0m \u001b[0mlist1\u001b[0m\u001b[0;34m=\u001b[0m\u001b[0;34m[\u001b[0m\u001b[0;36m1\u001b[0m\u001b[0;34m,\u001b[0m\u001b[0;34m[\u001b[0m\u001b[0;36m2\u001b[0m\u001b[0;34m,\u001b[0m\u001b[0;36m3\u001b[0m\u001b[0;34m,\u001b[0m\u001b[0;34m[\u001b[0m\u001b[0;36m4\u001b[0m\u001b[0;34m]\u001b[0m\u001b[0;34m,\u001b[0m\u001b[0;36m5\u001b[0m\u001b[0;34m]\u001b[0m\u001b[0;34m]\u001b[0m \u001b[0;31m#,6,7,8,[9,[[10,11],12],13],14,[15,[16,17]]]\u001b[0m\u001b[0;34m\u001b[0m\u001b[0;34m\u001b[0m\u001b[0m\n\u001b[0;32m---> 19\u001b[0;31m \u001b[0moutput_list\u001b[0m\u001b[0;34m=\u001b[0m\u001b[0mflatten_list\u001b[0m\u001b[0;34m(\u001b[0m\u001b[0mlist1\u001b[0m\u001b[0;34m)\u001b[0m\u001b[0;34m\u001b[0m\u001b[0;34m\u001b[0m\u001b[0m\n\u001b[0m\u001b[1;32m     20\u001b[0m \u001b[0mprint\u001b[0m\u001b[0;34m(\u001b[0m\u001b[0moutput_list\u001b[0m\u001b[0;34m)\u001b[0m\u001b[0;34m\u001b[0m\u001b[0;34m\u001b[0m\u001b[0m\n",
            "\u001b[0;32m<ipython-input-3-753983e759f7>\u001b[0m in \u001b[0;36mflatten_list\u001b[0;34m(list1)\u001b[0m\n\u001b[1;32m      8\u001b[0m         \u001b[0mnew_list\u001b[0m\u001b[0;34m.\u001b[0m\u001b[0mappend\u001b[0m\u001b[0;34m(\u001b[0m\u001b[0mnew_arr\u001b[0m\u001b[0;34m[\u001b[0m\u001b[0mi\u001b[0m\u001b[0;34m]\u001b[0m\u001b[0;34m)\u001b[0m\u001b[0;34m\u001b[0m\u001b[0;34m\u001b[0m\u001b[0m\n\u001b[1;32m      9\u001b[0m     \u001b[0;32melse\u001b[0m\u001b[0;34m:\u001b[0m\u001b[0;34m\u001b[0m\u001b[0;34m\u001b[0m\u001b[0m\n\u001b[0;32m---> 10\u001b[0;31m         \u001b[0mtemp\u001b[0m\u001b[0;34m=\u001b[0m\u001b[0mflatten_list\u001b[0m\u001b[0;34m(\u001b[0m\u001b[0mnew_arr\u001b[0m\u001b[0;34m[\u001b[0m\u001b[0mi\u001b[0m\u001b[0;34m]\u001b[0m\u001b[0;34m)\u001b[0m\u001b[0;34m\u001b[0m\u001b[0;34m\u001b[0m\u001b[0m\n\u001b[0m\u001b[1;32m     11\u001b[0m         \u001b[0marr\u001b[0m\u001b[0;34m=\u001b[0m\u001b[0marr\u001b[0m\u001b[0;34m+\u001b[0m\u001b[0mtemp\u001b[0m\u001b[0;34m\u001b[0m\u001b[0;34m\u001b[0m\u001b[0m\n\u001b[1;32m     12\u001b[0m     \u001b[0mi\u001b[0m\u001b[0;34m+=\u001b[0m\u001b[0;36m1\u001b[0m\u001b[0;34m\u001b[0m\u001b[0;34m\u001b[0m\u001b[0m\n",
            "... last 1 frames repeated, from the frame below ...\n",
            "\u001b[0;32m<ipython-input-3-753983e759f7>\u001b[0m in \u001b[0;36mflatten_list\u001b[0;34m(list1)\u001b[0m\n\u001b[1;32m      8\u001b[0m         \u001b[0mnew_list\u001b[0m\u001b[0;34m.\u001b[0m\u001b[0mappend\u001b[0m\u001b[0;34m(\u001b[0m\u001b[0mnew_arr\u001b[0m\u001b[0;34m[\u001b[0m\u001b[0mi\u001b[0m\u001b[0;34m]\u001b[0m\u001b[0;34m)\u001b[0m\u001b[0;34m\u001b[0m\u001b[0;34m\u001b[0m\u001b[0m\n\u001b[1;32m      9\u001b[0m     \u001b[0;32melse\u001b[0m\u001b[0;34m:\u001b[0m\u001b[0;34m\u001b[0m\u001b[0;34m\u001b[0m\u001b[0m\n\u001b[0;32m---> 10\u001b[0;31m         \u001b[0mtemp\u001b[0m\u001b[0;34m=\u001b[0m\u001b[0mflatten_list\u001b[0m\u001b[0;34m(\u001b[0m\u001b[0mnew_arr\u001b[0m\u001b[0;34m[\u001b[0m\u001b[0mi\u001b[0m\u001b[0;34m]\u001b[0m\u001b[0;34m)\u001b[0m\u001b[0;34m\u001b[0m\u001b[0;34m\u001b[0m\u001b[0m\n\u001b[0m\u001b[1;32m     11\u001b[0m         \u001b[0marr\u001b[0m\u001b[0;34m=\u001b[0m\u001b[0marr\u001b[0m\u001b[0;34m+\u001b[0m\u001b[0mtemp\u001b[0m\u001b[0;34m\u001b[0m\u001b[0;34m\u001b[0m\u001b[0m\n\u001b[1;32m     12\u001b[0m     \u001b[0mi\u001b[0m\u001b[0;34m+=\u001b[0m\u001b[0;36m1\u001b[0m\u001b[0;34m\u001b[0m\u001b[0;34m\u001b[0m\u001b[0m\n",
            "\u001b[0;31mRecursionError\u001b[0m: maximum recursion depth exceeded while calling a Python object"
          ]
        }
      ],
      "source": [
        "def flatten_list(list1):\n",
        "    # for itm in list1:\n",
        "    i=0\n",
        "    new_arr=str(list1)\n",
        "    new_list=[]\n",
        "    if new_arr[i]==int:\n",
        "            # arr+=[itm]\n",
        "        new_list.append(new_arr[i])\n",
        "    else:\n",
        "        temp=flatten_list(new_arr[i])\n",
        "        arr=arr+temp\n",
        "    i+=1\n",
        "\n",
        "    return arr\n",
        "    \n",
        "\n",
        "#driver code:\n",
        "list1=[1,[2,3,[4],5]] #,6,7,8,[9,[[10,11],12],13],14,[15,[16,17]]]\n",
        "output_list=flatten_list(list1)\n",
        "print(output_list)"
      ]
    },
    {
      "cell_type": "code",
      "execution_count": 1,
      "metadata": {
        "colab": {
          "base_uri": "https://localhost:8080/"
        },
        "id": "Gspg2JkScGhA",
        "outputId": "99aa843e-93e3-48fd-83fe-b82b1d38653a"
      },
      "outputs": [
        {
          "name": "stdout",
          "output_type": "stream",
          "text": [
            "[1, 2, 3, 4, 5, 6, 7, 8, 9, 10, 11, 12, 13, 14, 15, 16, 17]\n"
          ]
        }
      ],
      "source": [
        "def flattenList(given_list, output_list):\n",
        "    if len(given_list)==0: \n",
        "        return None\n",
        "    elif len(given_list)==1:\n",
        "        if type(given_list[0])==list:\n",
        "            flattenList(given_list[0], output_list)\n",
        "            flattenList(given_list[1:], output_list)\n",
        "        else:\n",
        "            return output_list.append(given_list[0])\n",
        "    else:\n",
        "        if type(given_list[0])==list:\n",
        "            flattenList(given_list[0], output_list)\n",
        "            flattenList(given_list[1:], output_list)\n",
        "        else:\n",
        "            output_list.append(given_list[0])\n",
        "            flattenList(given_list[1:], output_list)\n",
        "            return output_list\n",
        "\n",
        "\n",
        "given_list = [1, [2, [3, [4], 5], 6], 7, 8, [9, [[10, 11], 12], 13], 14, [15, [16, [17]]]]\n",
        "output_list = flattenList(given_list, []) # Initial empty list is sent for update\n",
        "# output_list = [1, 2, 3, 4, 5, 6, 7, 8, 9, 10, 11, 12, 13, 14, 15, 16, 17]\n",
        "print(output_list)"
      ]
    },
    {
      "cell_type": "code",
      "execution_count": 16,
      "metadata": {
        "colab": {
          "base_uri": "https://localhost:8080/",
          "height": 253
        },
        "id": "Wwb9rq_weIB5",
        "outputId": "139d25ef-a18d-4ddd-f35f-04c225a57c6c"
      },
      "outputs": [
        {
          "ename": "TypeError",
          "evalue": "ignored",
          "output_type": "error",
          "traceback": [
            "\u001b[0;31m---------------------------------------------------------------------------\u001b[0m",
            "\u001b[0;31mTypeError\u001b[0m                                 Traceback (most recent call last)",
            "\u001b[0;32m<ipython-input-16-62001e0610bd>\u001b[0m in \u001b[0;36m<cell line: 18>\u001b[0;34m()\u001b[0m\n\u001b[1;32m     16\u001b[0m         \u001b[0;32mreturn\u001b[0m \u001b[0moutput_list\u001b[0m\u001b[0;34m\u001b[0m\u001b[0;34m\u001b[0m\u001b[0m\n\u001b[1;32m     17\u001b[0m \u001b[0;34m\u001b[0m\u001b[0m\n\u001b[0;32m---> 18\u001b[0;31m \u001b[0mgiven_list\u001b[0m \u001b[0;34m=\u001b[0m \u001b[0mNode\u001b[0m\u001b[0;34m(\u001b[0m\u001b[0mNode\u001b[0m\u001b[0;34m(\u001b[0m\u001b[0mNode\u001b[0m\u001b[0;34m(\u001b[0m\u001b[0;32mNone\u001b[0m\u001b[0;34m,\u001b[0m \u001b[0mNode\u001b[0m\u001b[0;34m(\u001b[0m\u001b[0mNode\u001b[0m\u001b[0;34m(\u001b[0m\u001b[0mNode\u001b[0m\u001b[0;34m(\u001b[0m\u001b[0;32mNone\u001b[0m\u001b[0;34m,\u001b[0m \u001b[0;32mNone\u001b[0m\u001b[0;34m,\u001b[0m \u001b[0;36m4\u001b[0m\u001b[0;34m)\u001b[0m\u001b[0;34m,\u001b[0m \u001b[0;32mNone\u001b[0m\u001b[0;34m,\u001b[0m \u001b[0;36m5\u001b[0m\u001b[0;34m)\u001b[0m\u001b[0;34m,\u001b[0m \u001b[0mNode\u001b[0m\u001b[0;34m(\u001b[0m\u001b[0;32mNone\u001b[0m\u001b[0;34m,\u001b[0m \u001b[0;32mNone\u001b[0m\u001b[0;34m,\u001b[0m \u001b[0;36m6\u001b[0m\u001b[0;34m)\u001b[0m\u001b[0;34m,\u001b[0m \u001b[0;36m3\u001b[0m\u001b[0;34m)\u001b[0m\u001b[0;34m,\u001b[0m \u001b[0;32mNone\u001b[0m\u001b[0;34m,\u001b[0m \u001b[0;36m2\u001b[0m\u001b[0;34m)\u001b[0m\u001b[0;34m,\u001b[0m \u001b[0mNode\u001b[0m\u001b[0;34m(\u001b[0m\u001b[0;32mNone\u001b[0m\u001b[0;34m,\u001b[0m \u001b[0;32mNone\u001b[0m\u001b[0;34m,\u001b[0m \u001b[0;36m7\u001b[0m\u001b[0;34m)\u001b[0m\u001b[0;34m,\u001b[0m \u001b[0;36m1\u001b[0m\u001b[0;34m)\u001b[0m\u001b[0;34m,\u001b[0m \u001b[0mNode\u001b[0m\u001b[0;34m(\u001b[0m\u001b[0mNode\u001b[0m\u001b[0;34m(\u001b[0m\u001b[0mNode\u001b[0m\u001b[0;34m(\u001b[0m\u001b[0;32mNone\u001b[0m\u001b[0;34m,\u001b[0m \u001b[0mNode\u001b[0m\u001b[0;34m(\u001b[0m\u001b[0mNode\u001b[0m\u001b[0;34m(\u001b[0m\u001b[0mNode\u001b[0m\u001b[0;34m(\u001b[0m\u001b[0;32mNone\u001b[0m\u001b[0;34m,\u001b[0m \u001b[0;32mNone\u001b[0m\u001b[0;34m,\u001b[0m \u001b[0;36m11\u001b[0m\u001b[0;34m)\u001b[0m\u001b[0;34m,\u001b[0m \u001b[0;32mNone\u001b[0m\u001b[0;34m,\u001b[0m \u001b[0;36m10\u001b[0m\u001b[0;34m)\u001b[0m\u001b[0;34m,\u001b[0m \u001b[0;32mNone\u001b[0m\u001b[0;34m,\u001b[0m \u001b[0;36m12\u001b[0m\u001b[0;34m)\u001b[0m\u001b[0;34m,\u001b[0m \u001b[0;32mNone\u001b[0m\u001b[0;34m,\u001b[0m \u001b[0;36m9\u001b[0m\u001b[0;34m)\u001b[0m\u001b[0;34m,\u001b[0m \u001b[0;32mNone\u001b[0m\u001b[0;34m,\u001b[0m \u001b[0;36m13\u001b[0m\u001b[0;34m,\u001b[0m \u001b[0mNode\u001b[0m\u001b[0;34m(\u001b[0m\u001b[0;32mNone\u001b[0m\u001b[0;34m,\u001b[0m \u001b[0mNode\u001b[0m\u001b[0;34m(\u001b[0m\u001b[0;32mNone\u001b[0m\u001b[0;34m,\u001b[0m \u001b[0;36m17\u001b[0m\u001b[0;34m)\u001b[0m\u001b[0;34m,\u001b[0m \u001b[0;36m16\u001b[0m\u001b[0;34m)\u001b[0m\u001b[0;34m,\u001b[0m \u001b[0;36m15\u001b[0m\u001b[0;34m)\u001b[0m\u001b[0;34m,\u001b[0m\u001b[0mNo...\n\u001b[0m\u001b[1;32m     19\u001b[0m \u001b[0moutput_list\u001b[0m \u001b[0;34m=\u001b[0m \u001b[0mflattenList\u001b[0m\u001b[0;34m(\u001b[0m\u001b[0mgiven_list\u001b[0m\u001b[0;34m)\u001b[0m\u001b[0;34m\u001b[0m\u001b[0;34m\u001b[0m\u001b[0m\n\u001b[1;32m     20\u001b[0m \u001b[0mprint\u001b[0m\u001b[0;34m(\u001b[0m\u001b[0moutput_list\u001b[0m\u001b[0;34m)\u001b[0m\u001b[0;34m\u001b[0m\u001b[0;34m\u001b[0m\u001b[0m\n",
            "\u001b[0;31mTypeError\u001b[0m: __init__() takes 4 positional arguments but 5 were given"
          ]
        }
      ],
      "source": [
        "#ungraded one:\n",
        "class Node:\n",
        "    def __init__(self, next, bottom, val):\n",
        "        self.next = next\n",
        "        self.bottom = bottom\n",
        "        self.val = val\n",
        "        \n",
        "    def flattenList(given_list, output_list):\n",
        "        if given_list==None:\n",
        "            return output_list\n",
        "        if type(given_list) == int:\n",
        "            output_list.append(given_list)\n",
        "        else:\n",
        "            flattenList(given_list.val, output_list)\n",
        "        flattenList(given_list.bottom, output_list)\n",
        "        return output_list\n",
        "\n",
        "given_list = Node(Node(Node(None, Node(Node(Node(None, None, 4), None, 5), Node(None, None, 6), 3), None, 2), Node(None, None, 7), 1), Node(Node(Node(None, Node(Node(Node(None, None, 11), None, 10), None, 12), None, 9), None, 13, Node(None, Node(None, 17), 16), 15),Node(Node(None, None, 14), None, 8), None,None))\n",
        "output_list = flattenList(given_list)\n",
        "print(output_list)"
      ]
    }
  ],
  "metadata": {
    "colab": {
      "provenance": []
    },
    "kernelspec": {
      "display_name": "Python 3.9.10 64-bit",
      "language": "python",
      "name": "python3"
    },
    "language_info": {
      "codemirror_mode": {
        "name": "ipython",
        "version": 3
      },
      "file_extension": ".py",
      "mimetype": "text/x-python",
      "name": "python",
      "nbconvert_exporter": "python",
      "pygments_lexer": "ipython3",
      "version": "3.9.10"
    },
    "vscode": {
      "interpreter": {
        "hash": "422b1f1b902e0e7405ad72e2f513fbe0974f660e60f0ed12b91a714c9f730262"
      }
    }
  },
  "nbformat": 4,
  "nbformat_minor": 0
}
