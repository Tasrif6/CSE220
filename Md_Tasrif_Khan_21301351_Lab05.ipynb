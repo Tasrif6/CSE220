{
  "cells": [
    {
      "cell_type": "code",
      "execution_count": 28,
      "metadata": {
        "id": "jd5xH2GZeu1C"
      },
      "outputs": [],
      "source": [
        "# in this lab we will implement a Stack using array and linked list\n",
        "class Stack:\n",
        "    def __init__(self, capacity):\n",
        "        # initialize with necessary instance attributes\n",
        "        self.capacity=capacity\n",
        "        self.arr=[None]*capacity\n",
        "        self.count=0\n",
        "        print(capacity)\n",
        "    def is_empty(self):\n",
        "        if self.count==0:\n",
        "            return True\n",
        "        else:\n",
        "            return False\n",
        "    def push(self, value):\n",
        "        # insert the value in the stack\n",
        "        if self.is_full()==True:\n",
        "            print(\"Overflow Exception\")\n",
        "        else:\n",
        "            self.arr[self.count]=value\n",
        "            self.count+=1\n",
        "            #print(self.arr) \n",
        "\n",
        "    def pop(self):\n",
        "        # remove the most recently inserted element in the stack\n",
        "        # return the element\n",
        "        \n",
        "        if self.is_empty()==True:\n",
        "            print(\"Underflow extension\")\n",
        "        else:\n",
        "            # for i in range(self.capacity):\n",
        "            x=self.arr[self.count-1]\n",
        "            self.arr[self.count-1]=None\n",
        "            #print(x)\n",
        "            self.count-=1\n",
        "            #print(self.arr)\n",
        "            return x\n",
        "    def top(self):\n",
        "        # show the most recently inserted element in the stack\n",
        "        #print(self.arr[self.count])\n",
        "        pass\n",
        "    def is_full(self):\n",
        "        # return true if the capacity of the stack is full, false otherwise\n",
        "        count=0\n",
        "        if self.count==self.capacity:\n",
        "            return True\n",
        "        else:\n",
        "            return False\n",
        "\n",
        "    \n",
        "    def balance(expression):\n",
        "        stack = Stack(len(expression))\n",
        "        for i in range(len(expression)):\n",
        "            if expression[i] == '(' or expression[i] == '[' or expression[i] == '{':\n",
        "                stack.push(expression[i])\n",
        "            elif expression[i] == ')' or expression[i] == ']' or expression[i] == '}':\n",
        "                if stack.is_empty():\n",
        "                    return f\"This expression is NOT correct.\\nError at character # {i}. '{expression[i]}' - not opened.\"\n",
        "                if expression[i] == ')' and stack.pop() != '(':\n",
        "                    return f\"This expression is NOT correct.\\nError at character # {i}. '{expression[i]}' - not closed.\"\n",
        "                elif expression[i] == ']' and stack.pop() != '[':\n",
        "                    return f\"This expression is NOT correct.\\nError at character # {i}. '{expression[i]}' - not closed.\"\n",
        "                elif expression[i] == '}' and stack.pop() != '{':\n",
        "                    return f\"This expression is NOT correct.\\nError at character # {i}. '{expression[i]}' - not closed.\"\n",
        "        if not stack.is_empty():\n",
        "            last_opened = stack.pop()\n",
        "            if last_opened == '(':\n",
        "                bracket = ')'\n",
        "            elif last_opened == '[':\n",
        "                bracket = ']'\n",
        "            else:\n",
        "                bracket = '}'\n",
        "            return f\"This expression is NOT correct.\\nError at character # {len(expression)-1}. '{bracket}' - not closed.\"\n",
        "        return \"This expression is correct.\"\n",
        "    "
      ]
    },
    {
      "cell_type": "code",
      "execution_count": 29,
      "metadata": {
        "colab": {
          "base_uri": "https://localhost:8080/"
        },
        "id": "lZCX7apAgLOC",
        "outputId": "a8d2aeab-ebbf-4cf7-a9ca-b0ba5f003159"
      },
      "outputs": [
        {
          "name": "stdout",
          "output_type": "stream",
          "text": [
            "4\n",
            "True\n",
            "Underflow extension\n",
            "None\n",
            "True\n",
            "9\n",
            "Overflow Exception\n",
            "1+2*[3*3+{4–5(6(7/8/9)+10)–11+(12*8)]+14\n",
            "40\n",
            "This expression is NOT correct.\n",
            "Error at character # 36. ']' - not closed.\n"
          ]
        }
      ],
      "source": [
        "#Driver code \n",
        "# Will be updated here\n",
        "# copy it to your respective colab notebook\n",
        "st = Stack(4)\n",
        "print(st.is_empty())  # should return True\n",
        "print(st.pop())  # this should return underflow execption\n",
        "st.push(3)\n",
        "st.push(5)\n",
        "st.push(7)\n",
        "st.push(9)\n",
        "print(st.is_full())  #should return True\n",
        "print(st.pop())\n",
        "st.push(10) \n",
        "st.push(10) # this should return overflow execption\n",
        "inp=str(input())\n",
        "print(Stack.balance(inp))\n"
      ]
    },
    {
      "cell_type": "code",
      "execution_count": 50,
      "metadata": {
        "id": "l0_9vAUwNzF-"
      },
      "outputs": [],
      "source": [
        "class Node:\n",
        "    def __init__(self, data):\n",
        "        self.data = data\n",
        "        self.next = None\n",
        "        \n",
        "class Stack:\n",
        "    def __init__(self, max_size):\n",
        "        self.top = None\n",
        "        self.max_size = max_size\n",
        "        self.size = 0\n",
        "        \n",
        "    def is_empty(self):\n",
        "        return self.top == None\n",
        "    \n",
        "    def is_full(self):\n",
        "        return self.size == self.max_size\n",
        "    \n",
        "    def push(self, data):\n",
        "        if self.is_full():\n",
        "            return 'Overflow exception'\n",
        "        else:\n",
        "            new_node = Node(data)\n",
        "            new_node.next = self.top\n",
        "            self.top = new_node\n",
        "            self.size += 1\n",
        "    \n",
        "    def pop(self):\n",
        "        if self.is_empty():\n",
        "            #raise Exception(\"Stack Underflow\")\n",
        "            return 'Underflow exception'\n",
        "        else:\n",
        "            data = self.top.data\n",
        "            self.top = self.top.next\n",
        "            self.size -= 1\n",
        "            return data\n",
        "    \n",
        "    def peek(self):\n",
        "        if self.is_empty():\n",
        "            #raise Exception(\"Stack is empty\")\n",
        "            return \"empty\"\n",
        "        else:\n",
        "            return self.top.data\n",
        "\n",
        "    \n",
        "    def check_expression(expression):\n",
        "        stack = Stack(len(expression))\n",
        "        open_brackets = \"([{\"\n",
        "        close_brackets = \")]}\"\n",
        "        bracket_map = {\")\": \"(\", \"]\": \"[\", \"}\": \"{\"}\n",
        "        for i in range(len(expression)):\n",
        "            if expression[i] in open_brackets:\n",
        "                stack.push(expression[i])\n",
        "            elif expression[i] in close_brackets:\n",
        "                if stack.is_empty() or bracket_map[expression[i]] != stack.pop():\n",
        "                    return f\"This expression is NOT correct.\\nError at character # {i+1}. ‘{expression[i]}’- not opened.\"\n",
        "        if stack.is_empty():\n",
        "            return \"This expression is correct.\"\n",
        "        else:\n",
        "            return f\"This expression is NOT correct.\\nError at character # {i+1}. ‘{stack.pop()}’- not closed.\"\n",
        "    "
      ]
    },
    {
      "cell_type": "code",
      "execution_count": 52,
      "metadata": {
        "colab": {
          "base_uri": "https://localhost:8080/"
        },
        "id": "v8ExzMYOoZ2C",
        "outputId": "cce090ef-107a-48dc-d78b-1eb49841757b"
      },
      "outputs": [
        {
          "name": "stdout",
          "output_type": "stream",
          "text": [
            "True\n",
            "Underflow exception\n",
            "True\n",
            "9\n",
            "1+2*[3*3+{4–5(6(7/8/9)+10)–11+(12*8)]+14\n",
            "This expression is NOT correct.\n",
            "Error at character # 37. ‘]’- not opened.\n"
          ]
        }
      ],
      "source": [
        "#Driver code \n",
        "# Will be updated here\n",
        "# copy it to your respective colab notebook\n",
        "st = Stack(4)\n",
        "print(st.is_empty())  # should return True\n",
        "print(st.pop())  # this should return underflow execption\n",
        "st.push(3)\n",
        "st.push(5)\n",
        "st.push(7)\n",
        "st.push(9)\n",
        "print(st.is_full())  #should return True\n",
        "print(st.pop())\n",
        "st.push(10) \n",
        "st.push(10) # this should return overflow execption\n",
        "expression = str(input())\n",
        "print(Stack.check_expression(expression))\n",
        "\n"
      ]
    }
  ],
  "metadata": {
    "colab": {
      "provenance": []
    },
    "kernelspec": {
      "display_name": "Python 3.9.10 64-bit",
      "language": "python",
      "name": "python3"
    },
    "language_info": {
      "name": "python",
      "version": "3.9.10"
    },
    "vscode": {
      "interpreter": {
        "hash": "422b1f1b902e0e7405ad72e2f513fbe0974f660e60f0ed12b91a714c9f730262"
      }
    }
  },
  "nbformat": 4,
  "nbformat_minor": 0
}
